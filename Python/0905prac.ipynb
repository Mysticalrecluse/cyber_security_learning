{
 "cells": [
  {
   "cell_type": "code",
   "execution_count": 2,
   "metadata": {},
   "outputs": [
    {
     "name": "stdout",
     "output_type": "stream",
     "text": [
      "x = 4\n",
      "y = 56\n",
      "result = 60\n"
     ]
    }
   ],
   "source": [
    "x, y = input(\"请输入两个数，用空格分隔: \").split()\n",
    "print(\"x =\", x)\n",
    "print(\"y =\", y)\n",
    "result = int(x) + int(y)\n",
    "print(f\"result = {result}\")"
   ]
  },
  {
   "cell_type": "code",
   "execution_count": 3,
   "metadata": {},
   "outputs": [
    {
     "name": "stdout",
     "output_type": "stream",
     "text": [
      "\"hello\"!\n"
     ]
    }
   ],
   "source": [
    "print('\"hello\"!')\n",
    "# 可以在单引号中输出双引号"
   ]
  },
  {
   "cell_type": "code",
   "execution_count": 4,
   "metadata": {},
   "outputs": [
    {
     "name": "stdout",
     "output_type": "stream",
     "text": [
      "'hello'!\n"
     ]
    }
   ],
   "source": [
    "print(\"'hello'!\")\n",
    "# 也可以在双引号中输出单引号"
   ]
  },
  {
   "cell_type": "code",
   "execution_count": 6,
   "metadata": {},
   "outputs": [
    {
     "name": "stdout",
     "output_type": "stream",
     "text": [
      "hello\n",
      "world!\n"
     ]
    }
   ],
   "source": [
    "print('''hello\n",
    "world!''') # 三引号可以输出多行,支持换行以及单引号双引号"
   ]
  },
  {
   "cell_type": "code",
   "execution_count": 7,
   "metadata": {},
   "outputs": [
    {
     "name": "stdout",
     "output_type": "stream",
     "text": [
      "我叫小明,今年10岁\n"
     ]
    }
   ],
   "source": [
    "print(\"我叫%s,今年%d岁\" % (\"小明\", 10)) # 老用法，不推荐"
   ]
  },
  {
   "cell_type": "code",
   "execution_count": 9,
   "metadata": {},
   "outputs": [
    {
     "name": "stdout",
     "output_type": "stream",
     "text": [
      "我今年 12岁，我爸爸48.00岁\n"
     ]
    }
   ],
   "source": [
    "print('我今年{:3d}岁，我爸爸{:.2f}岁'.format(12,48))\n",
    "# :3d表示一共有3位整数，不足补空格\n",
    "# :.2f 表示小数点后两位"
   ]
  },
  {
   "cell_type": "code",
   "execution_count": 10,
   "metadata": {},
   "outputs": [
    {
     "name": "stdout",
     "output_type": "stream",
     "text": [
      "x的变量是123\n",
      "x的变量是123.00\n"
     ]
    }
   ],
   "source": [
    "x = 123\n",
    "print(f\"x的变量是{x}\")\n",
    "print(f\"x的变量是{x:.2f}\") "
   ]
  },
  {
   "cell_type": "code",
   "execution_count": 17,
   "metadata": {},
   "outputs": [
    {
     "name": "stdout",
     "output_type": "stream",
     "text": [
      "False\n",
      "True\n"
     ]
    }
   ],
   "source": [
    "x = \"123\"\n",
    "print(x.isalpha()) # 判断是否为字母\n",
    "print(x.isdigit()) # 判断是否为数字"
   ]
  },
  {
   "cell_type": "code",
   "execution_count": 22,
   "metadata": {},
   "outputs": [
    {
     "name": "stdout",
     "output_type": "stream",
     "text": [
      "h,e,l,l,o,w,o,r,l,d,i,s,g,o,o,d\n",
      "['h', 'e', 'l', 'l', 'o', 'w', 'o', 'r', 'l', 'd', 'i', 's', 'g', 'o', 'o', 'd']\n",
      "['h', 'e', 'l', 'l,o,w,o,r,l,d,i,s,g,o,o,d']\n"
     ]
    }
   ],
   "source": [
    "x = \"helloworldisgood\"\n",
    "y = \",\".join(x) # 用逗号连接字符串\n",
    "print(y)\n",
    "list1 = y.split(\",\") # 用逗号分割字符串\n",
    "print(list1)\n",
    "list2 = y.split(\",\", 3)\n",
    "print(list2) # 用逗号分割字符串，分割3次"
   ]
  },
  {
   "cell_type": "code",
   "execution_count": 23,
   "metadata": {},
   "outputs": [
    {
     "name": "stdout",
     "output_type": "stream",
     "text": [
      "True\n"
     ]
    }
   ],
   "source": [
    "x = \"Curry\"\n",
    "print(x.istitle())"
   ]
  },
  {
   "cell_type": "code",
   "execution_count": 25,
   "metadata": {},
   "outputs": [
    {
     "name": "stdout",
     "output_type": "stream",
     "text": [
      "com\n",
      "www.example.com\n"
     ]
    }
   ],
   "source": [
    "x = \"www.example.com\"\n",
    "print(x.lstrip(\"w.exampl\"))\n",
    "print(x)"
   ]
  },
  {
   "cell_type": "code",
   "execution_count": 27,
   "metadata": {},
   "outputs": [
    {
     "name": "stdout",
     "output_type": "stream",
     "text": [
      "www-example.com\n"
     ]
    }
   ],
   "source": [
    "x = \"www.example.com\"\n",
    "print(x.replace(\".\",\"-\",1))"
   ]
  },
  {
   "cell_type": "code",
   "execution_count": 29,
   "metadata": {},
   "outputs": [
    {
     "name": "stdout",
     "output_type": "stream",
     "text": [
      "['3,1,4,1,5', '9', '2', '6']\n"
     ]
    }
   ],
   "source": [
    "x = \"31415926\"\n",
    "y = \",\".join(x)\n",
    "print(y.rsplit(\",\",3))"
   ]
  },
  {
   "cell_type": "code",
   "execution_count": 32,
   "metadata": {},
   "outputs": [
    {
     "name": "stdout",
     "output_type": "stream",
     "text": [
      "CURRY\n",
      "Curry\n",
      "Curry\n"
     ]
    }
   ],
   "source": [
    "x = \"curry\"\n",
    "y = x.upper()\n",
    "print(y)\n",
    "z = x.title()\n",
    "print(z)\n",
    "w = x.capitalize()\n",
    "print(w)"
   ]
  },
  {
   "cell_type": "code",
   "execution_count": 1,
   "metadata": {},
   "outputs": [
    {
     "name": "stdout",
     "output_type": "stream",
     "text": [
      "hello\n"
     ]
    }
   ],
   "source": [
    "if (1):\n",
    "    print(\"hello\")\n",
    "else:\n",
    "    print(\"world\")"
   ]
  }
 ],
 "metadata": {
  "kernelspec": {
   "display_name": "Python 3",
   "language": "python",
   "name": "python3"
  },
  "language_info": {
   "codemirror_mode": {
    "name": "ipython",
    "version": 3
   },
   "file_extension": ".py",
   "mimetype": "text/x-python",
   "name": "python",
   "nbconvert_exporter": "python",
   "pygments_lexer": "ipython3",
   "version": "3.11.4"
  },
  "orig_nbformat": 4
 },
 "nbformat": 4,
 "nbformat_minor": 2
}
